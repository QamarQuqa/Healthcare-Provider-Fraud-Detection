{
 "cells": [
  {
   "cell_type": "markdown",
   "metadata": {},
   "source": [
    "<p style=\"text-align:center;font-size:30px ;font-weight: bold; line-height: 40px;\">  HEALTHCARE PROVIDER FRAUD DETECTION ANALYSIS<p/>\n",
    "<p style=\"text-align:center; font-size:15px;  font-weight: bold;\"> Report about missing values (percentage, count,..) & features data type <p/>\n",
    "<p style=\"text-align:center;  line-height: 0px;font-weight: bold;\"> July 29, 2021<p/>\n",
    "\n"
   ]
  },
  {
   "cell_type": "markdown",
   "metadata": {},
   "source": [
    "# ` Importing libraries`"
   ]
  },
  {
   "cell_type": "code",
   "execution_count": 1,
   "metadata": {},
   "outputs": [],
   "source": [
    "import pandas as pd "
   ]
  },
  {
   "cell_type": "markdown",
   "metadata": {},
   "source": [
    "# `Reading the datasets`"
   ]
  },
  {
   "cell_type": "code",
   "execution_count": 2,
   "metadata": {},
   "outputs": [],
   "source": [
    "inpatient_df = pd.read_csv(\"Train_Inpatientdata.csv\")\n",
    "outpatient_df = pd.read_csv('Train_Outpatientdata.csv')"
   ]
  },
  {
   "cell_type": "code",
   "execution_count": 3,
   "metadata": {
    "scrolled": false
   },
   "outputs": [
    {
     "data": {
      "text/html": [
       "<div>\n",
       "<style scoped>\n",
       "    .dataframe tbody tr th:only-of-type {\n",
       "        vertical-align: middle;\n",
       "    }\n",
       "\n",
       "    .dataframe tbody tr th {\n",
       "        vertical-align: top;\n",
       "    }\n",
       "\n",
       "    .dataframe thead th {\n",
       "        text-align: right;\n",
       "    }\n",
       "</style>\n",
       "<table border=\"1\" class=\"dataframe\">\n",
       "  <thead>\n",
       "    <tr style=\"text-align: right;\">\n",
       "      <th></th>\n",
       "      <th>BeneID</th>\n",
       "      <th>ClaimID</th>\n",
       "      <th>ClaimStartDt</th>\n",
       "      <th>ClaimEndDt</th>\n",
       "      <th>Provider</th>\n",
       "      <th>InscClaimAmtReimbursed</th>\n",
       "      <th>AttendingPhysician</th>\n",
       "      <th>OperatingPhysician</th>\n",
       "      <th>OtherPhysician</th>\n",
       "      <th>AdmissionDt</th>\n",
       "      <th>...</th>\n",
       "      <th>ClmDiagnosisCode_7</th>\n",
       "      <th>ClmDiagnosisCode_8</th>\n",
       "      <th>ClmDiagnosisCode_9</th>\n",
       "      <th>ClmDiagnosisCode_10</th>\n",
       "      <th>ClmProcedureCode_1</th>\n",
       "      <th>ClmProcedureCode_2</th>\n",
       "      <th>ClmProcedureCode_3</th>\n",
       "      <th>ClmProcedureCode_4</th>\n",
       "      <th>ClmProcedureCode_5</th>\n",
       "      <th>ClmProcedureCode_6</th>\n",
       "    </tr>\n",
       "  </thead>\n",
       "  <tbody>\n",
       "    <tr>\n",
       "      <th>0</th>\n",
       "      <td>BENE11001</td>\n",
       "      <td>CLM46614</td>\n",
       "      <td>2009-04-12</td>\n",
       "      <td>2009-04-18</td>\n",
       "      <td>PRV55912</td>\n",
       "      <td>26000</td>\n",
       "      <td>PHY390922</td>\n",
       "      <td>NaN</td>\n",
       "      <td>NaN</td>\n",
       "      <td>2009-04-12</td>\n",
       "      <td>...</td>\n",
       "      <td>2724</td>\n",
       "      <td>19889</td>\n",
       "      <td>5849</td>\n",
       "      <td>NaN</td>\n",
       "      <td>NaN</td>\n",
       "      <td>NaN</td>\n",
       "      <td>NaN</td>\n",
       "      <td>NaN</td>\n",
       "      <td>NaN</td>\n",
       "      <td>NaN</td>\n",
       "    </tr>\n",
       "    <tr>\n",
       "      <th>1</th>\n",
       "      <td>BENE11001</td>\n",
       "      <td>CLM66048</td>\n",
       "      <td>2009-08-31</td>\n",
       "      <td>2009-09-02</td>\n",
       "      <td>PRV55907</td>\n",
       "      <td>5000</td>\n",
       "      <td>PHY318495</td>\n",
       "      <td>PHY318495</td>\n",
       "      <td>NaN</td>\n",
       "      <td>2009-08-31</td>\n",
       "      <td>...</td>\n",
       "      <td>NaN</td>\n",
       "      <td>NaN</td>\n",
       "      <td>NaN</td>\n",
       "      <td>NaN</td>\n",
       "      <td>7092.0</td>\n",
       "      <td>NaN</td>\n",
       "      <td>NaN</td>\n",
       "      <td>NaN</td>\n",
       "      <td>NaN</td>\n",
       "      <td>NaN</td>\n",
       "    </tr>\n",
       "    <tr>\n",
       "      <th>2</th>\n",
       "      <td>BENE11001</td>\n",
       "      <td>CLM68358</td>\n",
       "      <td>2009-09-17</td>\n",
       "      <td>2009-09-20</td>\n",
       "      <td>PRV56046</td>\n",
       "      <td>5000</td>\n",
       "      <td>PHY372395</td>\n",
       "      <td>NaN</td>\n",
       "      <td>PHY324689</td>\n",
       "      <td>2009-09-17</td>\n",
       "      <td>...</td>\n",
       "      <td>NaN</td>\n",
       "      <td>NaN</td>\n",
       "      <td>NaN</td>\n",
       "      <td>NaN</td>\n",
       "      <td>NaN</td>\n",
       "      <td>NaN</td>\n",
       "      <td>NaN</td>\n",
       "      <td>NaN</td>\n",
       "      <td>NaN</td>\n",
       "      <td>NaN</td>\n",
       "    </tr>\n",
       "    <tr>\n",
       "      <th>3</th>\n",
       "      <td>BENE11011</td>\n",
       "      <td>CLM38412</td>\n",
       "      <td>2009-02-14</td>\n",
       "      <td>2009-02-22</td>\n",
       "      <td>PRV52405</td>\n",
       "      <td>5000</td>\n",
       "      <td>PHY369659</td>\n",
       "      <td>PHY392961</td>\n",
       "      <td>PHY349768</td>\n",
       "      <td>2009-02-14</td>\n",
       "      <td>...</td>\n",
       "      <td>25062</td>\n",
       "      <td>40390</td>\n",
       "      <td>4019</td>\n",
       "      <td>NaN</td>\n",
       "      <td>331.0</td>\n",
       "      <td>NaN</td>\n",
       "      <td>NaN</td>\n",
       "      <td>NaN</td>\n",
       "      <td>NaN</td>\n",
       "      <td>NaN</td>\n",
       "    </tr>\n",
       "    <tr>\n",
       "      <th>4</th>\n",
       "      <td>BENE11014</td>\n",
       "      <td>CLM63689</td>\n",
       "      <td>2009-08-13</td>\n",
       "      <td>2009-08-30</td>\n",
       "      <td>PRV56614</td>\n",
       "      <td>10000</td>\n",
       "      <td>PHY379376</td>\n",
       "      <td>PHY398258</td>\n",
       "      <td>NaN</td>\n",
       "      <td>2009-08-13</td>\n",
       "      <td>...</td>\n",
       "      <td>5119</td>\n",
       "      <td>29620</td>\n",
       "      <td>20300</td>\n",
       "      <td>NaN</td>\n",
       "      <td>3893.0</td>\n",
       "      <td>NaN</td>\n",
       "      <td>NaN</td>\n",
       "      <td>NaN</td>\n",
       "      <td>NaN</td>\n",
       "      <td>NaN</td>\n",
       "    </tr>\n",
       "  </tbody>\n",
       "</table>\n",
       "<p>5 rows × 30 columns</p>\n",
       "</div>"
      ],
      "text/plain": [
       "      BeneID   ClaimID ClaimStartDt  ClaimEndDt  Provider  \\\n",
       "0  BENE11001  CLM46614   2009-04-12  2009-04-18  PRV55912   \n",
       "1  BENE11001  CLM66048   2009-08-31  2009-09-02  PRV55907   \n",
       "2  BENE11001  CLM68358   2009-09-17  2009-09-20  PRV56046   \n",
       "3  BENE11011  CLM38412   2009-02-14  2009-02-22  PRV52405   \n",
       "4  BENE11014  CLM63689   2009-08-13  2009-08-30  PRV56614   \n",
       "\n",
       "   InscClaimAmtReimbursed AttendingPhysician OperatingPhysician  \\\n",
       "0                   26000          PHY390922                NaN   \n",
       "1                    5000          PHY318495          PHY318495   \n",
       "2                    5000          PHY372395                NaN   \n",
       "3                    5000          PHY369659          PHY392961   \n",
       "4                   10000          PHY379376          PHY398258   \n",
       "\n",
       "  OtherPhysician AdmissionDt  ... ClmDiagnosisCode_7  ClmDiagnosisCode_8  \\\n",
       "0            NaN  2009-04-12  ...               2724               19889   \n",
       "1            NaN  2009-08-31  ...                NaN                 NaN   \n",
       "2      PHY324689  2009-09-17  ...                NaN                 NaN   \n",
       "3      PHY349768  2009-02-14  ...              25062               40390   \n",
       "4            NaN  2009-08-13  ...               5119               29620   \n",
       "\n",
       "  ClmDiagnosisCode_9 ClmDiagnosisCode_10 ClmProcedureCode_1  \\\n",
       "0               5849                 NaN                NaN   \n",
       "1                NaN                 NaN             7092.0   \n",
       "2                NaN                 NaN                NaN   \n",
       "3               4019                 NaN              331.0   \n",
       "4              20300                 NaN             3893.0   \n",
       "\n",
       "  ClmProcedureCode_2 ClmProcedureCode_3 ClmProcedureCode_4 ClmProcedureCode_5  \\\n",
       "0                NaN                NaN                NaN                NaN   \n",
       "1                NaN                NaN                NaN                NaN   \n",
       "2                NaN                NaN                NaN                NaN   \n",
       "3                NaN                NaN                NaN                NaN   \n",
       "4                NaN                NaN                NaN                NaN   \n",
       "\n",
       "  ClmProcedureCode_6  \n",
       "0                NaN  \n",
       "1                NaN  \n",
       "2                NaN  \n",
       "3                NaN  \n",
       "4                NaN  \n",
       "\n",
       "[5 rows x 30 columns]"
      ]
     },
     "execution_count": 3,
     "metadata": {},
     "output_type": "execute_result"
    }
   ],
   "source": [
    "# view first few records\n",
    "inpatient_df.head()"
   ]
  },
  {
   "cell_type": "code",
   "execution_count": 4,
   "metadata": {
    "scrolled": false
   },
   "outputs": [
    {
     "data": {
      "text/html": [
       "<div>\n",
       "<style scoped>\n",
       "    .dataframe tbody tr th:only-of-type {\n",
       "        vertical-align: middle;\n",
       "    }\n",
       "\n",
       "    .dataframe tbody tr th {\n",
       "        vertical-align: top;\n",
       "    }\n",
       "\n",
       "    .dataframe thead th {\n",
       "        text-align: right;\n",
       "    }\n",
       "</style>\n",
       "<table border=\"1\" class=\"dataframe\">\n",
       "  <thead>\n",
       "    <tr style=\"text-align: right;\">\n",
       "      <th></th>\n",
       "      <th>BeneID</th>\n",
       "      <th>ClaimID</th>\n",
       "      <th>ClaimStartDt</th>\n",
       "      <th>ClaimEndDt</th>\n",
       "      <th>Provider</th>\n",
       "      <th>InscClaimAmtReimbursed</th>\n",
       "      <th>AttendingPhysician</th>\n",
       "      <th>OperatingPhysician</th>\n",
       "      <th>OtherPhysician</th>\n",
       "      <th>ClmDiagnosisCode_1</th>\n",
       "      <th>...</th>\n",
       "      <th>ClmDiagnosisCode_9</th>\n",
       "      <th>ClmDiagnosisCode_10</th>\n",
       "      <th>ClmProcedureCode_1</th>\n",
       "      <th>ClmProcedureCode_2</th>\n",
       "      <th>ClmProcedureCode_3</th>\n",
       "      <th>ClmProcedureCode_4</th>\n",
       "      <th>ClmProcedureCode_5</th>\n",
       "      <th>ClmProcedureCode_6</th>\n",
       "      <th>DeductibleAmtPaid</th>\n",
       "      <th>ClmAdmitDiagnosisCode</th>\n",
       "    </tr>\n",
       "  </thead>\n",
       "  <tbody>\n",
       "    <tr>\n",
       "      <th>0</th>\n",
       "      <td>BENE11002</td>\n",
       "      <td>CLM624349</td>\n",
       "      <td>2009-10-11</td>\n",
       "      <td>2009-10-11</td>\n",
       "      <td>PRV56011</td>\n",
       "      <td>30</td>\n",
       "      <td>PHY326117</td>\n",
       "      <td>NaN</td>\n",
       "      <td>NaN</td>\n",
       "      <td>78943</td>\n",
       "      <td>...</td>\n",
       "      <td>NaN</td>\n",
       "      <td>NaN</td>\n",
       "      <td>NaN</td>\n",
       "      <td>NaN</td>\n",
       "      <td>NaN</td>\n",
       "      <td>NaN</td>\n",
       "      <td>NaN</td>\n",
       "      <td>NaN</td>\n",
       "      <td>0</td>\n",
       "      <td>56409</td>\n",
       "    </tr>\n",
       "    <tr>\n",
       "      <th>1</th>\n",
       "      <td>BENE11003</td>\n",
       "      <td>CLM189947</td>\n",
       "      <td>2009-02-12</td>\n",
       "      <td>2009-02-12</td>\n",
       "      <td>PRV57610</td>\n",
       "      <td>80</td>\n",
       "      <td>PHY362868</td>\n",
       "      <td>NaN</td>\n",
       "      <td>NaN</td>\n",
       "      <td>6115</td>\n",
       "      <td>...</td>\n",
       "      <td>NaN</td>\n",
       "      <td>NaN</td>\n",
       "      <td>NaN</td>\n",
       "      <td>NaN</td>\n",
       "      <td>NaN</td>\n",
       "      <td>NaN</td>\n",
       "      <td>NaN</td>\n",
       "      <td>NaN</td>\n",
       "      <td>0</td>\n",
       "      <td>79380</td>\n",
       "    </tr>\n",
       "    <tr>\n",
       "      <th>2</th>\n",
       "      <td>BENE11003</td>\n",
       "      <td>CLM438021</td>\n",
       "      <td>2009-06-27</td>\n",
       "      <td>2009-06-27</td>\n",
       "      <td>PRV57595</td>\n",
       "      <td>10</td>\n",
       "      <td>PHY328821</td>\n",
       "      <td>NaN</td>\n",
       "      <td>NaN</td>\n",
       "      <td>2723</td>\n",
       "      <td>...</td>\n",
       "      <td>NaN</td>\n",
       "      <td>NaN</td>\n",
       "      <td>NaN</td>\n",
       "      <td>NaN</td>\n",
       "      <td>NaN</td>\n",
       "      <td>NaN</td>\n",
       "      <td>NaN</td>\n",
       "      <td>NaN</td>\n",
       "      <td>0</td>\n",
       "      <td>NaN</td>\n",
       "    </tr>\n",
       "    <tr>\n",
       "      <th>3</th>\n",
       "      <td>BENE11004</td>\n",
       "      <td>CLM121801</td>\n",
       "      <td>2009-01-06</td>\n",
       "      <td>2009-01-06</td>\n",
       "      <td>PRV56011</td>\n",
       "      <td>40</td>\n",
       "      <td>PHY334319</td>\n",
       "      <td>NaN</td>\n",
       "      <td>NaN</td>\n",
       "      <td>71988</td>\n",
       "      <td>...</td>\n",
       "      <td>NaN</td>\n",
       "      <td>NaN</td>\n",
       "      <td>NaN</td>\n",
       "      <td>NaN</td>\n",
       "      <td>NaN</td>\n",
       "      <td>NaN</td>\n",
       "      <td>NaN</td>\n",
       "      <td>NaN</td>\n",
       "      <td>0</td>\n",
       "      <td>NaN</td>\n",
       "    </tr>\n",
       "    <tr>\n",
       "      <th>4</th>\n",
       "      <td>BENE11004</td>\n",
       "      <td>CLM150998</td>\n",
       "      <td>2009-01-22</td>\n",
       "      <td>2009-01-22</td>\n",
       "      <td>PRV56011</td>\n",
       "      <td>200</td>\n",
       "      <td>PHY403831</td>\n",
       "      <td>NaN</td>\n",
       "      <td>NaN</td>\n",
       "      <td>82382</td>\n",
       "      <td>...</td>\n",
       "      <td>NaN</td>\n",
       "      <td>NaN</td>\n",
       "      <td>NaN</td>\n",
       "      <td>NaN</td>\n",
       "      <td>NaN</td>\n",
       "      <td>NaN</td>\n",
       "      <td>NaN</td>\n",
       "      <td>NaN</td>\n",
       "      <td>0</td>\n",
       "      <td>71947</td>\n",
       "    </tr>\n",
       "  </tbody>\n",
       "</table>\n",
       "<p>5 rows × 27 columns</p>\n",
       "</div>"
      ],
      "text/plain": [
       "      BeneID    ClaimID ClaimStartDt  ClaimEndDt  Provider  \\\n",
       "0  BENE11002  CLM624349   2009-10-11  2009-10-11  PRV56011   \n",
       "1  BENE11003  CLM189947   2009-02-12  2009-02-12  PRV57610   \n",
       "2  BENE11003  CLM438021   2009-06-27  2009-06-27  PRV57595   \n",
       "3  BENE11004  CLM121801   2009-01-06  2009-01-06  PRV56011   \n",
       "4  BENE11004  CLM150998   2009-01-22  2009-01-22  PRV56011   \n",
       "\n",
       "   InscClaimAmtReimbursed AttendingPhysician OperatingPhysician  \\\n",
       "0                      30          PHY326117                NaN   \n",
       "1                      80          PHY362868                NaN   \n",
       "2                      10          PHY328821                NaN   \n",
       "3                      40          PHY334319                NaN   \n",
       "4                     200          PHY403831                NaN   \n",
       "\n",
       "  OtherPhysician ClmDiagnosisCode_1  ... ClmDiagnosisCode_9  \\\n",
       "0            NaN              78943  ...                NaN   \n",
       "1            NaN               6115  ...                NaN   \n",
       "2            NaN               2723  ...                NaN   \n",
       "3            NaN              71988  ...                NaN   \n",
       "4            NaN              82382  ...                NaN   \n",
       "\n",
       "  ClmDiagnosisCode_10 ClmProcedureCode_1 ClmProcedureCode_2  \\\n",
       "0                 NaN                NaN                NaN   \n",
       "1                 NaN                NaN                NaN   \n",
       "2                 NaN                NaN                NaN   \n",
       "3                 NaN                NaN                NaN   \n",
       "4                 NaN                NaN                NaN   \n",
       "\n",
       "  ClmProcedureCode_3 ClmProcedureCode_4 ClmProcedureCode_5 ClmProcedureCode_6  \\\n",
       "0                NaN                NaN                NaN                NaN   \n",
       "1                NaN                NaN                NaN                NaN   \n",
       "2                NaN                NaN                NaN                NaN   \n",
       "3                NaN                NaN                NaN                NaN   \n",
       "4                NaN                NaN                NaN                NaN   \n",
       "\n",
       "  DeductibleAmtPaid  ClmAdmitDiagnosisCode  \n",
       "0                 0                  56409  \n",
       "1                 0                  79380  \n",
       "2                 0                    NaN  \n",
       "3                 0                    NaN  \n",
       "4                 0                  71947  \n",
       "\n",
       "[5 rows x 27 columns]"
      ]
     },
     "execution_count": 4,
     "metadata": {},
     "output_type": "execute_result"
    }
   ],
   "source": [
    "# view first few records\n",
    "outpatient_df.head()"
   ]
  },
  {
   "cell_type": "markdown",
   "metadata": {},
   "source": [
    "***\n",
    "# `Data overview`"
   ]
  },
  {
   "cell_type": "code",
   "execution_count": 5,
   "metadata": {},
   "outputs": [
    {
     "name": "stdout",
     "output_type": "stream",
     "text": [
      "<class 'pandas.core.frame.DataFrame'>\n",
      "RangeIndex: 40474 entries, 0 to 40473\n",
      "Data columns (total 30 columns):\n",
      " #   Column                  Non-Null Count  Dtype  \n",
      "---  ------                  --------------  -----  \n",
      " 0   BeneID                  40474 non-null  object \n",
      " 1   ClaimID                 40474 non-null  object \n",
      " 2   ClaimStartDt            40474 non-null  object \n",
      " 3   ClaimEndDt              40474 non-null  object \n",
      " 4   Provider                40474 non-null  object \n",
      " 5   InscClaimAmtReimbursed  40474 non-null  int64  \n",
      " 6   AttendingPhysician      40362 non-null  object \n",
      " 7   OperatingPhysician      23830 non-null  object \n",
      " 8   OtherPhysician          4690 non-null   object \n",
      " 9   AdmissionDt             40474 non-null  object \n",
      " 10  ClmAdmitDiagnosisCode   40474 non-null  object \n",
      " 11  DeductibleAmtPaid       39575 non-null  float64\n",
      " 12  DischargeDt             40474 non-null  object \n",
      " 13  DiagnosisGroupCode      40474 non-null  object \n",
      " 14  ClmDiagnosisCode_1      40474 non-null  object \n",
      " 15  ClmDiagnosisCode_2      40248 non-null  object \n",
      " 16  ClmDiagnosisCode_3      39798 non-null  object \n",
      " 17  ClmDiagnosisCode_4      38940 non-null  object \n",
      " 18  ClmDiagnosisCode_5      37580 non-null  object \n",
      " 19  ClmDiagnosisCode_6      35636 non-null  object \n",
      " 20  ClmDiagnosisCode_7      33216 non-null  object \n",
      " 21  ClmDiagnosisCode_8      30532 non-null  object \n",
      " 22  ClmDiagnosisCode_9      26977 non-null  object \n",
      " 23  ClmDiagnosisCode_10     3927 non-null   object \n",
      " 24  ClmProcedureCode_1      23148 non-null  float64\n",
      " 25  ClmProcedureCode_2      5454 non-null   float64\n",
      " 26  ClmProcedureCode_3      965 non-null    float64\n",
      " 27  ClmProcedureCode_4      116 non-null    float64\n",
      " 28  ClmProcedureCode_5      9 non-null      float64\n",
      " 29  ClmProcedureCode_6      0 non-null      float64\n",
      "dtypes: float64(7), int64(1), object(22)\n",
      "memory usage: 9.3+ MB\n"
     ]
    }
   ],
   "source": [
    "#get summary of an inpatient dataframe\n",
    "inpatient_df.info()"
   ]
  },
  {
   "cell_type": "markdown",
   "metadata": {},
   "source": [
    "<div class=\"alert alert-block alert-info\"> <strong>Inpatient</strong> dataframe consists of 30 columns(features)\n",
    "</div>\n"
   ]
  },
  {
   "cell_type": "markdown",
   "metadata": {},
   "source": [
    "<p class=\"alert alert-block alert-warning\"> Inpatient dataframe consists of 3 extra columns Admission date, Discharge date, and Diagnosis Group code."
   ]
  },
  {
   "cell_type": "code",
   "execution_count": 6,
   "metadata": {},
   "outputs": [
    {
     "name": "stdout",
     "output_type": "stream",
     "text": [
      "<class 'pandas.core.frame.DataFrame'>\n",
      "RangeIndex: 517737 entries, 0 to 517736\n",
      "Data columns (total 27 columns):\n",
      " #   Column                  Non-Null Count   Dtype  \n",
      "---  ------                  --------------   -----  \n",
      " 0   BeneID                  517737 non-null  object \n",
      " 1   ClaimID                 517737 non-null  object \n",
      " 2   ClaimStartDt            517737 non-null  object \n",
      " 3   ClaimEndDt              517737 non-null  object \n",
      " 4   Provider                517737 non-null  object \n",
      " 5   InscClaimAmtReimbursed  517737 non-null  int64  \n",
      " 6   AttendingPhysician      516341 non-null  object \n",
      " 7   OperatingPhysician      90617 non-null   object \n",
      " 8   OtherPhysician          195046 non-null  object \n",
      " 9   ClmDiagnosisCode_1      507284 non-null  object \n",
      " 10  ClmDiagnosisCode_2      322357 non-null  object \n",
      " 11  ClmDiagnosisCode_3      203257 non-null  object \n",
      " 12  ClmDiagnosisCode_4      125596 non-null  object \n",
      " 13  ClmDiagnosisCode_5      74344 non-null   object \n",
      " 14  ClmDiagnosisCode_6      48756 non-null   object \n",
      " 15  ClmDiagnosisCode_7      32961 non-null   object \n",
      " 16  ClmDiagnosisCode_8      22912 non-null   object \n",
      " 17  ClmDiagnosisCode_9      14838 non-null   object \n",
      " 18  ClmDiagnosisCode_10     1083 non-null    object \n",
      " 19  ClmProcedureCode_1      162 non-null     float64\n",
      " 20  ClmProcedureCode_2      36 non-null      float64\n",
      " 21  ClmProcedureCode_3      4 non-null       float64\n",
      " 22  ClmProcedureCode_4      2 non-null       float64\n",
      " 23  ClmProcedureCode_5      0 non-null       float64\n",
      " 24  ClmProcedureCode_6      0 non-null       float64\n",
      " 25  DeductibleAmtPaid       517737 non-null  int64  \n",
      " 26  ClmAdmitDiagnosisCode   105425 non-null  object \n",
      "dtypes: float64(6), int64(2), object(19)\n",
      "memory usage: 106.7+ MB\n"
     ]
    }
   ],
   "source": [
    "#get summary of an outpatient dataframe\n",
    "outpatient_df.info()"
   ]
  },
  {
   "cell_type": "markdown",
   "metadata": {},
   "source": [
    "<div class=\"alert alert-block alert-info\"> <strong>Outpatient</strong> dataframe consists of 27 columns(features)\n",
    "</div>"
   ]
  },
  {
   "cell_type": "markdown",
   "metadata": {},
   "source": [
    "***\n",
    "# `Merge inpatient & outpatient dataframes`"
   ]
  },
  {
   "cell_type": "code",
   "execution_count": 7,
   "metadata": {},
   "outputs": [
    {
     "data": {
      "text/html": [
       "<div>\n",
       "<style scoped>\n",
       "    .dataframe tbody tr th:only-of-type {\n",
       "        vertical-align: middle;\n",
       "    }\n",
       "\n",
       "    .dataframe tbody tr th {\n",
       "        vertical-align: top;\n",
       "    }\n",
       "\n",
       "    .dataframe thead th {\n",
       "        text-align: right;\n",
       "    }\n",
       "</style>\n",
       "<table border=\"1\" class=\"dataframe\">\n",
       "  <thead>\n",
       "    <tr style=\"text-align: right;\">\n",
       "      <th></th>\n",
       "      <th>BeneID</th>\n",
       "      <th>ClaimID</th>\n",
       "      <th>ClaimStartDt</th>\n",
       "      <th>ClaimEndDt</th>\n",
       "      <th>Provider</th>\n",
       "      <th>InscClaimAmtReimbursed</th>\n",
       "      <th>AttendingPhysician</th>\n",
       "      <th>OperatingPhysician</th>\n",
       "      <th>OtherPhysician</th>\n",
       "      <th>ClmDiagnosisCode_1</th>\n",
       "      <th>...</th>\n",
       "      <th>ClmProcedureCode_2</th>\n",
       "      <th>ClmProcedureCode_3</th>\n",
       "      <th>ClmProcedureCode_4</th>\n",
       "      <th>ClmProcedureCode_5</th>\n",
       "      <th>ClmProcedureCode_6</th>\n",
       "      <th>DeductibleAmtPaid</th>\n",
       "      <th>ClmAdmitDiagnosisCode</th>\n",
       "      <th>AdmissionDt</th>\n",
       "      <th>DischargeDt</th>\n",
       "      <th>DiagnosisGroupCode</th>\n",
       "    </tr>\n",
       "  </thead>\n",
       "  <tbody>\n",
       "    <tr>\n",
       "      <th>0</th>\n",
       "      <td>BENE11002</td>\n",
       "      <td>CLM624349</td>\n",
       "      <td>2009-10-11</td>\n",
       "      <td>2009-10-11</td>\n",
       "      <td>PRV56011</td>\n",
       "      <td>30</td>\n",
       "      <td>PHY326117</td>\n",
       "      <td>NaN</td>\n",
       "      <td>NaN</td>\n",
       "      <td>78943</td>\n",
       "      <td>...</td>\n",
       "      <td>NaN</td>\n",
       "      <td>NaN</td>\n",
       "      <td>NaN</td>\n",
       "      <td>NaN</td>\n",
       "      <td>NaN</td>\n",
       "      <td>0.0</td>\n",
       "      <td>56409</td>\n",
       "      <td>NaN</td>\n",
       "      <td>NaN</td>\n",
       "      <td>NaN</td>\n",
       "    </tr>\n",
       "    <tr>\n",
       "      <th>1</th>\n",
       "      <td>BENE11003</td>\n",
       "      <td>CLM189947</td>\n",
       "      <td>2009-02-12</td>\n",
       "      <td>2009-02-12</td>\n",
       "      <td>PRV57610</td>\n",
       "      <td>80</td>\n",
       "      <td>PHY362868</td>\n",
       "      <td>NaN</td>\n",
       "      <td>NaN</td>\n",
       "      <td>6115</td>\n",
       "      <td>...</td>\n",
       "      <td>NaN</td>\n",
       "      <td>NaN</td>\n",
       "      <td>NaN</td>\n",
       "      <td>NaN</td>\n",
       "      <td>NaN</td>\n",
       "      <td>0.0</td>\n",
       "      <td>79380</td>\n",
       "      <td>NaN</td>\n",
       "      <td>NaN</td>\n",
       "      <td>NaN</td>\n",
       "    </tr>\n",
       "    <tr>\n",
       "      <th>2</th>\n",
       "      <td>BENE11003</td>\n",
       "      <td>CLM438021</td>\n",
       "      <td>2009-06-27</td>\n",
       "      <td>2009-06-27</td>\n",
       "      <td>PRV57595</td>\n",
       "      <td>10</td>\n",
       "      <td>PHY328821</td>\n",
       "      <td>NaN</td>\n",
       "      <td>NaN</td>\n",
       "      <td>2723</td>\n",
       "      <td>...</td>\n",
       "      <td>NaN</td>\n",
       "      <td>NaN</td>\n",
       "      <td>NaN</td>\n",
       "      <td>NaN</td>\n",
       "      <td>NaN</td>\n",
       "      <td>0.0</td>\n",
       "      <td>NaN</td>\n",
       "      <td>NaN</td>\n",
       "      <td>NaN</td>\n",
       "      <td>NaN</td>\n",
       "    </tr>\n",
       "    <tr>\n",
       "      <th>3</th>\n",
       "      <td>BENE11004</td>\n",
       "      <td>CLM121801</td>\n",
       "      <td>2009-01-06</td>\n",
       "      <td>2009-01-06</td>\n",
       "      <td>PRV56011</td>\n",
       "      <td>40</td>\n",
       "      <td>PHY334319</td>\n",
       "      <td>NaN</td>\n",
       "      <td>NaN</td>\n",
       "      <td>71988</td>\n",
       "      <td>...</td>\n",
       "      <td>NaN</td>\n",
       "      <td>NaN</td>\n",
       "      <td>NaN</td>\n",
       "      <td>NaN</td>\n",
       "      <td>NaN</td>\n",
       "      <td>0.0</td>\n",
       "      <td>NaN</td>\n",
       "      <td>NaN</td>\n",
       "      <td>NaN</td>\n",
       "      <td>NaN</td>\n",
       "    </tr>\n",
       "    <tr>\n",
       "      <th>4</th>\n",
       "      <td>BENE11004</td>\n",
       "      <td>CLM150998</td>\n",
       "      <td>2009-01-22</td>\n",
       "      <td>2009-01-22</td>\n",
       "      <td>PRV56011</td>\n",
       "      <td>200</td>\n",
       "      <td>PHY403831</td>\n",
       "      <td>NaN</td>\n",
       "      <td>NaN</td>\n",
       "      <td>82382</td>\n",
       "      <td>...</td>\n",
       "      <td>NaN</td>\n",
       "      <td>NaN</td>\n",
       "      <td>NaN</td>\n",
       "      <td>NaN</td>\n",
       "      <td>NaN</td>\n",
       "      <td>0.0</td>\n",
       "      <td>71947</td>\n",
       "      <td>NaN</td>\n",
       "      <td>NaN</td>\n",
       "      <td>NaN</td>\n",
       "    </tr>\n",
       "  </tbody>\n",
       "</table>\n",
       "<p>5 rows × 30 columns</p>\n",
       "</div>"
      ],
      "text/plain": [
       "      BeneID    ClaimID ClaimStartDt  ClaimEndDt  Provider  \\\n",
       "0  BENE11002  CLM624349   2009-10-11  2009-10-11  PRV56011   \n",
       "1  BENE11003  CLM189947   2009-02-12  2009-02-12  PRV57610   \n",
       "2  BENE11003  CLM438021   2009-06-27  2009-06-27  PRV57595   \n",
       "3  BENE11004  CLM121801   2009-01-06  2009-01-06  PRV56011   \n",
       "4  BENE11004  CLM150998   2009-01-22  2009-01-22  PRV56011   \n",
       "\n",
       "   InscClaimAmtReimbursed AttendingPhysician OperatingPhysician  \\\n",
       "0                      30          PHY326117                NaN   \n",
       "1                      80          PHY362868                NaN   \n",
       "2                      10          PHY328821                NaN   \n",
       "3                      40          PHY334319                NaN   \n",
       "4                     200          PHY403831                NaN   \n",
       "\n",
       "  OtherPhysician ClmDiagnosisCode_1  ... ClmProcedureCode_2  \\\n",
       "0            NaN              78943  ...                NaN   \n",
       "1            NaN               6115  ...                NaN   \n",
       "2            NaN               2723  ...                NaN   \n",
       "3            NaN              71988  ...                NaN   \n",
       "4            NaN              82382  ...                NaN   \n",
       "\n",
       "  ClmProcedureCode_3 ClmProcedureCode_4 ClmProcedureCode_5 ClmProcedureCode_6  \\\n",
       "0                NaN                NaN                NaN                NaN   \n",
       "1                NaN                NaN                NaN                NaN   \n",
       "2                NaN                NaN                NaN                NaN   \n",
       "3                NaN                NaN                NaN                NaN   \n",
       "4                NaN                NaN                NaN                NaN   \n",
       "\n",
       "  DeductibleAmtPaid ClmAdmitDiagnosisCode AdmissionDt DischargeDt  \\\n",
       "0               0.0                 56409         NaN         NaN   \n",
       "1               0.0                 79380         NaN         NaN   \n",
       "2               0.0                   NaN         NaN         NaN   \n",
       "3               0.0                   NaN         NaN         NaN   \n",
       "4               0.0                 71947         NaN         NaN   \n",
       "\n",
       "   DiagnosisGroupCode  \n",
       "0                 NaN  \n",
       "1                 NaN  \n",
       "2                 NaN  \n",
       "3                 NaN  \n",
       "4                 NaN  \n",
       "\n",
       "[5 rows x 30 columns]"
      ]
     },
     "execution_count": 7,
     "metadata": {},
     "output_type": "execute_result"
    }
   ],
   "source": [
    "#merge two dataframes \n",
    "frames=[outpatient_df, inpatient_df]\n",
    "outin_patient = pd.concat(frames)\n",
    "\n",
    "# view first few records\n",
    "outin_patient.head()"
   ]
  },
  {
   "cell_type": "code",
   "execution_count": 8,
   "metadata": {},
   "outputs": [],
   "source": [
    "outin_patient.to_csv('outin_patient.csv')"
   ]
  },
  {
   "cell_type": "markdown",
   "metadata": {},
   "source": [
    "***\n",
    "# `Investigating the in&out patients dataset`"
   ]
  },
  {
   "cell_type": "code",
   "execution_count": 9,
   "metadata": {},
   "outputs": [
    {
     "data": {
      "text/plain": [
       "(558211, 30)"
      ]
     },
     "execution_count": 9,
     "metadata": {},
     "output_type": "execute_result"
    }
   ],
   "source": [
    "outin_patient.shape"
   ]
  },
  {
   "cell_type": "markdown",
   "metadata": {},
   "source": [
    "#### Checking the percentage of the NaNs"
   ]
  },
  {
   "cell_type": "code",
   "execution_count": 10,
   "metadata": {
    "scrolled": false
   },
   "outputs": [],
   "source": [
    "def check_missing(df):\n",
    "    # Check the percentage of Nan in dataset\n",
    "    total = df.isnull().sum().sort_values(ascending=False)\n",
    "    percent = (df.isnull().sum()/len(df)).sort_values(ascending=False)\n",
    "    missing_data = pd.concat([total, percent], axis=1, keys=['Total', 'Percent'])\n",
    "    return missing_data "
   ]
  },
  {
   "cell_type": "code",
   "execution_count": 11,
   "metadata": {},
   "outputs": [
    {
     "data": {
      "text/html": [
       "<div>\n",
       "<style scoped>\n",
       "    .dataframe tbody tr th:only-of-type {\n",
       "        vertical-align: middle;\n",
       "    }\n",
       "\n",
       "    .dataframe tbody tr th {\n",
       "        vertical-align: top;\n",
       "    }\n",
       "\n",
       "    .dataframe thead th {\n",
       "        text-align: right;\n",
       "    }\n",
       "</style>\n",
       "<table border=\"1\" class=\"dataframe\">\n",
       "  <thead>\n",
       "    <tr style=\"text-align: right;\">\n",
       "      <th></th>\n",
       "      <th>Total</th>\n",
       "      <th>Percent</th>\n",
       "    </tr>\n",
       "  </thead>\n",
       "  <tbody>\n",
       "    <tr>\n",
       "      <th>ClmProcedureCode_6</th>\n",
       "      <td>558211</td>\n",
       "      <td>1.000000</td>\n",
       "    </tr>\n",
       "    <tr>\n",
       "      <th>ClmProcedureCode_5</th>\n",
       "      <td>558202</td>\n",
       "      <td>0.999984</td>\n",
       "    </tr>\n",
       "    <tr>\n",
       "      <th>ClmProcedureCode_4</th>\n",
       "      <td>558093</td>\n",
       "      <td>0.999789</td>\n",
       "    </tr>\n",
       "    <tr>\n",
       "      <th>ClmProcedureCode_3</th>\n",
       "      <td>557242</td>\n",
       "      <td>0.998264</td>\n",
       "    </tr>\n",
       "    <tr>\n",
       "      <th>ClmDiagnosisCode_10</th>\n",
       "      <td>553201</td>\n",
       "      <td>0.991025</td>\n",
       "    </tr>\n",
       "    <tr>\n",
       "      <th>ClmProcedureCode_2</th>\n",
       "      <td>552721</td>\n",
       "      <td>0.990165</td>\n",
       "    </tr>\n",
       "    <tr>\n",
       "      <th>ClmProcedureCode_1</th>\n",
       "      <td>534901</td>\n",
       "      <td>0.958242</td>\n",
       "    </tr>\n",
       "    <tr>\n",
       "      <th>DiagnosisGroupCode</th>\n",
       "      <td>517737</td>\n",
       "      <td>0.927493</td>\n",
       "    </tr>\n",
       "    <tr>\n",
       "      <th>DischargeDt</th>\n",
       "      <td>517737</td>\n",
       "      <td>0.927493</td>\n",
       "    </tr>\n",
       "    <tr>\n",
       "      <th>AdmissionDt</th>\n",
       "      <td>517737</td>\n",
       "      <td>0.927493</td>\n",
       "    </tr>\n",
       "    <tr>\n",
       "      <th>ClmDiagnosisCode_9</th>\n",
       "      <td>516396</td>\n",
       "      <td>0.925091</td>\n",
       "    </tr>\n",
       "    <tr>\n",
       "      <th>ClmDiagnosisCode_8</th>\n",
       "      <td>504767</td>\n",
       "      <td>0.904258</td>\n",
       "    </tr>\n",
       "    <tr>\n",
       "      <th>ClmDiagnosisCode_7</th>\n",
       "      <td>492034</td>\n",
       "      <td>0.881448</td>\n",
       "    </tr>\n",
       "    <tr>\n",
       "      <th>ClmDiagnosisCode_6</th>\n",
       "      <td>473819</td>\n",
       "      <td>0.848817</td>\n",
       "    </tr>\n",
       "    <tr>\n",
       "      <th>ClmDiagnosisCode_5</th>\n",
       "      <td>446287</td>\n",
       "      <td>0.799495</td>\n",
       "    </tr>\n",
       "    <tr>\n",
       "      <th>OperatingPhysician</th>\n",
       "      <td>443764</td>\n",
       "      <td>0.794975</td>\n",
       "    </tr>\n",
       "    <tr>\n",
       "      <th>ClmAdmitDiagnosisCode</th>\n",
       "      <td>412312</td>\n",
       "      <td>0.738631</td>\n",
       "    </tr>\n",
       "    <tr>\n",
       "      <th>ClmDiagnosisCode_4</th>\n",
       "      <td>393675</td>\n",
       "      <td>0.705244</td>\n",
       "    </tr>\n",
       "    <tr>\n",
       "      <th>OtherPhysician</th>\n",
       "      <td>358475</td>\n",
       "      <td>0.642185</td>\n",
       "    </tr>\n",
       "    <tr>\n",
       "      <th>ClmDiagnosisCode_3</th>\n",
       "      <td>315156</td>\n",
       "      <td>0.564582</td>\n",
       "    </tr>\n",
       "    <tr>\n",
       "      <th>ClmDiagnosisCode_2</th>\n",
       "      <td>195606</td>\n",
       "      <td>0.350416</td>\n",
       "    </tr>\n",
       "    <tr>\n",
       "      <th>ClmDiagnosisCode_1</th>\n",
       "      <td>10453</td>\n",
       "      <td>0.018726</td>\n",
       "    </tr>\n",
       "    <tr>\n",
       "      <th>AttendingPhysician</th>\n",
       "      <td>1508</td>\n",
       "      <td>0.002701</td>\n",
       "    </tr>\n",
       "    <tr>\n",
       "      <th>DeductibleAmtPaid</th>\n",
       "      <td>899</td>\n",
       "      <td>0.001611</td>\n",
       "    </tr>\n",
       "    <tr>\n",
       "      <th>ClaimID</th>\n",
       "      <td>0</td>\n",
       "      <td>0.000000</td>\n",
       "    </tr>\n",
       "    <tr>\n",
       "      <th>InscClaimAmtReimbursed</th>\n",
       "      <td>0</td>\n",
       "      <td>0.000000</td>\n",
       "    </tr>\n",
       "    <tr>\n",
       "      <th>Provider</th>\n",
       "      <td>0</td>\n",
       "      <td>0.000000</td>\n",
       "    </tr>\n",
       "    <tr>\n",
       "      <th>ClaimEndDt</th>\n",
       "      <td>0</td>\n",
       "      <td>0.000000</td>\n",
       "    </tr>\n",
       "    <tr>\n",
       "      <th>ClaimStartDt</th>\n",
       "      <td>0</td>\n",
       "      <td>0.000000</td>\n",
       "    </tr>\n",
       "    <tr>\n",
       "      <th>BeneID</th>\n",
       "      <td>0</td>\n",
       "      <td>0.000000</td>\n",
       "    </tr>\n",
       "  </tbody>\n",
       "</table>\n",
       "</div>"
      ],
      "text/plain": [
       "                         Total   Percent\n",
       "ClmProcedureCode_6      558211  1.000000\n",
       "ClmProcedureCode_5      558202  0.999984\n",
       "ClmProcedureCode_4      558093  0.999789\n",
       "ClmProcedureCode_3      557242  0.998264\n",
       "ClmDiagnosisCode_10     553201  0.991025\n",
       "ClmProcedureCode_2      552721  0.990165\n",
       "ClmProcedureCode_1      534901  0.958242\n",
       "DiagnosisGroupCode      517737  0.927493\n",
       "DischargeDt             517737  0.927493\n",
       "AdmissionDt             517737  0.927493\n",
       "ClmDiagnosisCode_9      516396  0.925091\n",
       "ClmDiagnosisCode_8      504767  0.904258\n",
       "ClmDiagnosisCode_7      492034  0.881448\n",
       "ClmDiagnosisCode_6      473819  0.848817\n",
       "ClmDiagnosisCode_5      446287  0.799495\n",
       "OperatingPhysician      443764  0.794975\n",
       "ClmAdmitDiagnosisCode   412312  0.738631\n",
       "ClmDiagnosisCode_4      393675  0.705244\n",
       "OtherPhysician          358475  0.642185\n",
       "ClmDiagnosisCode_3      315156  0.564582\n",
       "ClmDiagnosisCode_2      195606  0.350416\n",
       "ClmDiagnosisCode_1       10453  0.018726\n",
       "AttendingPhysician        1508  0.002701\n",
       "DeductibleAmtPaid          899  0.001611\n",
       "ClaimID                      0  0.000000\n",
       "InscClaimAmtReimbursed       0  0.000000\n",
       "Provider                     0  0.000000\n",
       "ClaimEndDt                   0  0.000000\n",
       "ClaimStartDt                 0  0.000000\n",
       "BeneID                       0  0.000000"
      ]
     },
     "execution_count": 11,
     "metadata": {},
     "output_type": "execute_result"
    }
   ],
   "source": [
    "check_missing(outin_patient)"
   ]
  },
  {
   "cell_type": "code",
   "execution_count": 12,
   "metadata": {},
   "outputs": [],
   "source": [
    "def NAN_50(df):\n",
    "    \"\"\"\n",
    "    get features have more than 50% missing values\n",
    "    args: dataframe\n",
    "    return : features have missing values more than 50%\n",
    "    \"\"\" \n",
    "    NaN_50 = df.isna().sum()/len(df)*100 > 50 \n",
    "    return NaN_50[NaN_50 == True]"
   ]
  },
  {
   "cell_type": "code",
   "execution_count": 13,
   "metadata": {},
   "outputs": [
    {
     "data": {
      "text/plain": [
       "OperatingPhysician       True\n",
       "OtherPhysician           True\n",
       "ClmDiagnosisCode_3       True\n",
       "ClmDiagnosisCode_4       True\n",
       "ClmDiagnosisCode_5       True\n",
       "ClmDiagnosisCode_6       True\n",
       "ClmDiagnosisCode_7       True\n",
       "ClmDiagnosisCode_8       True\n",
       "ClmDiagnosisCode_9       True\n",
       "ClmDiagnosisCode_10      True\n",
       "ClmProcedureCode_1       True\n",
       "ClmProcedureCode_2       True\n",
       "ClmProcedureCode_3       True\n",
       "ClmProcedureCode_4       True\n",
       "ClmProcedureCode_5       True\n",
       "ClmProcedureCode_6       True\n",
       "ClmAdmitDiagnosisCode    True\n",
       "AdmissionDt              True\n",
       "DischargeDt              True\n",
       "DiagnosisGroupCode       True\n",
       "dtype: bool"
      ]
     },
     "execution_count": 13,
     "metadata": {},
     "output_type": "execute_result"
    }
   ],
   "source": [
    "#get outin_patient features have more than 50% missing\n",
    "NAN_50(outin_patient)"
   ]
  },
  {
   "cell_type": "markdown",
   "metadata": {},
   "source": [
    "*** "
   ]
  },
  {
   "cell_type": "markdown",
   "metadata": {},
   "source": [
    "### `BeneId`: Beneficiary Patient ID"
   ]
  },
  {
   "cell_type": "code",
   "execution_count": 14,
   "metadata": {},
   "outputs": [
    {
     "data": {
      "text/plain": [
       "dtype('O')"
      ]
     },
     "execution_count": 14,
     "metadata": {},
     "output_type": "execute_result"
    }
   ],
   "source": [
    "#get the BeneID dtype\n",
    "outin_patient['BeneID'].dtype"
   ]
  },
  {
   "cell_type": "code",
   "execution_count": 15,
   "metadata": {},
   "outputs": [
    {
     "data": {
      "text/plain": [
       "array(['BENE11002', 'BENE11003', 'BENE11004', ..., 'BENE159064',\n",
       "       'BENE159103', 'BENE159175'], dtype=object)"
      ]
     },
     "execution_count": 15,
     "metadata": {},
     "output_type": "execute_result"
    }
   ],
   "source": [
    "outin_patient['BeneID'].unique()"
   ]
  },
  {
   "cell_type": "markdown",
   "metadata": {},
   "source": [
    "<div class=\"alert alert-block alert-info\">Sounds all <strong>BeneID</strong> values start with <strong>BENE</strong>. To make sure of that, we will count the occurrences  of BenID start with this text \n",
    "</div>"
   ]
  },
  {
   "cell_type": "code",
   "execution_count": 16,
   "metadata": {},
   "outputs": [
    {
     "data": {
      "text/plain": [
       "True"
      ]
     },
     "execution_count": 16,
     "metadata": {},
     "output_type": "execute_result"
    }
   ],
   "source": [
    "outin_patient['BeneID'].str.startswith('BENE').value_counts().values[0] == outin_patient.shape[0]"
   ]
  },
  {
   "cell_type": "markdown",
   "metadata": {},
   "source": [
    "<div class=\"alert alert-block alert-success\">All the <strong>BeneID</strong> values are valid and there is no missing values. In Addition, our assumption is true (all BeneID start with BENE)\n",
    "</div>\n",
    "\n",
    "***"
   ]
  },
  {
   "cell_type": "markdown",
   "metadata": {},
   "source": [
    "### `ClaimID`: Claim ID"
   ]
  },
  {
   "cell_type": "code",
   "execution_count": 17,
   "metadata": {},
   "outputs": [
    {
     "data": {
      "text/plain": [
       "dtype('O')"
      ]
     },
     "execution_count": 17,
     "metadata": {},
     "output_type": "execute_result"
    }
   ],
   "source": [
    "outin_patient['ClaimID'].dtype"
   ]
  },
  {
   "cell_type": "code",
   "execution_count": 18,
   "metadata": {},
   "outputs": [
    {
     "data": {
      "text/plain": [
       "array(['CLM624349', 'CLM189947', 'CLM438021', ..., 'CLM76485', 'CLM79949',\n",
       "       'CLM69948'], dtype=object)"
      ]
     },
     "execution_count": 18,
     "metadata": {},
     "output_type": "execute_result"
    }
   ],
   "source": [
    "outin_patient['ClaimID'].unique()"
   ]
  },
  {
   "cell_type": "markdown",
   "metadata": {},
   "source": [
    "<div class=\"alert alert-block alert-info\">Sounds all <strong>ClaimID</strong> values start with <strong>CLM</strong>. To make sure of that, we will count the occurrences  of ClaimID start with this text \n",
    "</div>"
   ]
  },
  {
   "cell_type": "code",
   "execution_count": 19,
   "metadata": {},
   "outputs": [
    {
     "data": {
      "text/plain": [
       "True"
      ]
     },
     "execution_count": 19,
     "metadata": {},
     "output_type": "execute_result"
    }
   ],
   "source": [
    "outin_patient['ClaimID'].str.startswith('CLM').value_counts().values[0] == outin_patient.shape[0]"
   ]
  },
  {
   "cell_type": "markdown",
   "metadata": {},
   "source": [
    "<div class=\"alert alert-block alert-success\">All the <strong>ClaimID</strong> values are valid and there is no missing values. In Addition, our assumption is true (all ClaimID start with CLM)\n",
    "</div>\n",
    "\n",
    "***"
   ]
  },
  {
   "cell_type": "markdown",
   "metadata": {},
   "source": [
    "### `ClaimStartDt`: Claim Start Date"
   ]
  },
  {
   "cell_type": "code",
   "execution_count": 20,
   "metadata": {},
   "outputs": [
    {
     "data": {
      "text/plain": [
       "dtype('O')"
      ]
     },
     "execution_count": 20,
     "metadata": {},
     "output_type": "execute_result"
    }
   ],
   "source": [
    "outin_patient['ClaimStartDt'].dtype"
   ]
  },
  {
   "cell_type": "markdown",
   "metadata": {},
   "source": [
    "<div class=\"alert alert-block alert-warning\">The date datatype is an object."
   ]
  },
  {
   "cell_type": "code",
   "execution_count": 21,
   "metadata": {},
   "outputs": [
    {
     "data": {
      "text/plain": [
       "dtype('<M8[ns]')"
      ]
     },
     "execution_count": 21,
     "metadata": {},
     "output_type": "execute_result"
    }
   ],
   "source": [
    "#converting the date object into datetime\n",
    "outin_patient['ClaimStartDt'] = pd.to_datetime(outin_patient['ClaimStartDt'])\n",
    "outin_patient['ClaimStartDt'].dtype"
   ]
  },
  {
   "cell_type": "markdown",
   "metadata": {},
   "source": [
    "<div class=\"alert alert-block alert-success\">All the <strong>ClaimStartDt</strong> values are valid and there is no missing values.\n",
    "</div>\n",
    "\n",
    "***"
   ]
  },
  {
   "cell_type": "markdown",
   "metadata": {},
   "source": [
    "### `ClaimEndDt`: Claim Start Date"
   ]
  },
  {
   "cell_type": "code",
   "execution_count": 22,
   "metadata": {},
   "outputs": [
    {
     "data": {
      "text/plain": [
       "dtype('O')"
      ]
     },
     "execution_count": 22,
     "metadata": {},
     "output_type": "execute_result"
    }
   ],
   "source": [
    "outin_patient['ClaimEndDt'].dtype"
   ]
  },
  {
   "cell_type": "markdown",
   "metadata": {},
   "source": [
    "\n",
    "<div class=\"alert alert-block alert-warning\">The date datatype is an object."
   ]
  },
  {
   "cell_type": "code",
   "execution_count": 23,
   "metadata": {},
   "outputs": [
    {
     "data": {
      "text/plain": [
       "dtype('<M8[ns]')"
      ]
     },
     "execution_count": 23,
     "metadata": {},
     "output_type": "execute_result"
    }
   ],
   "source": [
    "#converting the date object into datetime\n",
    "outin_patient['ClaimEndDt'] = pd.to_datetime(outin_patient['ClaimEndDt'])\n",
    "outin_patient['ClaimEndDt'].dtype\n"
   ]
  },
  {
   "cell_type": "markdown",
   "metadata": {},
   "source": [
    "\n",
    "<div class=\"alert alert-block alert-success\">All the <strong>ClaimEndDt</strong> values are valid and there is no missing values.\n",
    "</div>\n",
    "\n",
    "***"
   ]
  },
  {
   "cell_type": "markdown",
   "metadata": {},
   "source": [
    "### `AdmissionDt`\n"
   ]
  },
  {
   "cell_type": "code",
   "execution_count": 24,
   "metadata": {},
   "outputs": [
    {
     "data": {
      "text/plain": [
       "dtype('O')"
      ]
     },
     "execution_count": 24,
     "metadata": {},
     "output_type": "execute_result"
    }
   ],
   "source": [
    "outin_patient['AdmissionDt'].dtype"
   ]
  },
  {
   "cell_type": "code",
   "execution_count": 25,
   "metadata": {},
   "outputs": [
    {
     "data": {
      "text/plain": [
       "dtype('<M8[ns]')"
      ]
     },
     "execution_count": 25,
     "metadata": {},
     "output_type": "execute_result"
    }
   ],
   "source": [
    "#converting the date object into datetime\n",
    "outin_patient['AdmissionDt'] = pd.to_datetime(outin_patient['AdmissionDt'])\n",
    "outin_patient['AdmissionDt'].dtype"
   ]
  },
  {
   "cell_type": "markdown",
   "metadata": {},
   "source": [
    "\n",
    "<div class=\"alert alert-block alert-info\">All the <strong>AdmissionDt</strong> values are valid and there is 517737 missing values(0.927493). NOTE : inpatient has no missing values in AdmissionDt. All missing values come from outpatient since there is no patient has AdmissionDt\n",
    "</div>\n",
    "\n",
    "***"
   ]
  },
  {
   "cell_type": "markdown",
   "metadata": {},
   "source": [
    "### `DischargeDt`\n"
   ]
  },
  {
   "cell_type": "code",
   "execution_count": 26,
   "metadata": {},
   "outputs": [
    {
     "data": {
      "text/plain": [
       "dtype('O')"
      ]
     },
     "execution_count": 26,
     "metadata": {},
     "output_type": "execute_result"
    }
   ],
   "source": [
    "outin_patient['DischargeDt'].dtype"
   ]
  },
  {
   "cell_type": "code",
   "execution_count": 27,
   "metadata": {},
   "outputs": [
    {
     "data": {
      "text/plain": [
       "dtype('<M8[ns]')"
      ]
     },
     "execution_count": 27,
     "metadata": {},
     "output_type": "execute_result"
    }
   ],
   "source": [
    "#converting the date object into datetime\n",
    "outin_patient['DischargeDt'] = pd.to_datetime(outin_patient['DischargeDt'])\n",
    "outin_patient['DischargeDt'].dtype"
   ]
  },
  {
   "cell_type": "markdown",
   "metadata": {},
   "source": [
    "\n",
    "<div class=\"alert alert-block alert-info\">All the <strong>DischargeDt</strong> values are valid and there is 517737 missing values(0.927493). NOTE : inpatient has no missing values in DischargeDt. All missing values come from outpatient since there is no patient has DischargeDt\n",
    "</div>\n",
    "\n",
    "***"
   ]
  },
  {
   "cell_type": "markdown",
   "metadata": {},
   "source": [
    "### `DiagnosisGroupCode`"
   ]
  },
  {
   "cell_type": "code",
   "execution_count": 28,
   "metadata": {},
   "outputs": [
    {
     "data": {
      "text/plain": [
       "dtype('O')"
      ]
     },
     "execution_count": 28,
     "metadata": {},
     "output_type": "execute_result"
    }
   ],
   "source": [
    "outin_patient['DiagnosisGroupCode'].dtype"
   ]
  },
  {
   "cell_type": "code",
   "execution_count": 29,
   "metadata": {},
   "outputs": [
    {
     "data": {
      "text/plain": [
       "882    179\n",
       "884    174\n",
       "166    168\n",
       "183    165\n",
       "939    163\n",
       "      ... \n",
       "765      1\n",
       "768      1\n",
       "775      1\n",
       "927      1\n",
       "955      1\n",
       "Name: DiagnosisGroupCode, Length: 736, dtype: int64"
      ]
     },
     "execution_count": 29,
     "metadata": {},
     "output_type": "execute_result"
    }
   ],
   "source": [
    "outin_patient.DiagnosisGroupCode.value_counts()"
   ]
  },
  {
   "cell_type": "markdown",
   "metadata": {},
   "source": [
    "\n",
    "<div class=\"alert alert-block alert-info\"> <strong>DiagnosisGroupCode</strong> have 517737 missing values(0.927493). \n",
    "    <ul>\n",
    "        <li>NOTE : inpatient has no missing values in DiagnosisGroupCode. All missing values come from outpatient since there is no patient has DiagnosisGroupCode</li>\n",
    "        <li> NOTE : DiagnosisGroupCode should have<strong> int </strong> type, so in the next level we have to convert it into <strong>int</strong> type </li>\n",
    "        </ul>\n",
    "</div>\n",
    "\n",
    "***"
   ]
  },
  {
   "cell_type": "markdown",
   "metadata": {},
   "source": [
    "### `Provider`"
   ]
  },
  {
   "cell_type": "code",
   "execution_count": 30,
   "metadata": {},
   "outputs": [
    {
     "data": {
      "text/plain": [
       "dtype('O')"
      ]
     },
     "execution_count": 30,
     "metadata": {},
     "output_type": "execute_result"
    }
   ],
   "source": [
    "outin_patient['Provider'].dtype"
   ]
  },
  {
   "cell_type": "code",
   "execution_count": 31,
   "metadata": {},
   "outputs": [
    {
     "data": {
      "text/plain": [
       "PRV51459    8240\n",
       "PRV53797    4739\n",
       "PRV51574    4444\n",
       "PRV53918    3588\n",
       "PRV54895    3436\n",
       "            ... \n",
       "PRV54503       1\n",
       "PRV57386       1\n",
       "PRV55787       1\n",
       "PRV53643       1\n",
       "PRV52443       1\n",
       "Name: Provider, Length: 5410, dtype: int64"
      ]
     },
     "execution_count": 31,
     "metadata": {},
     "output_type": "execute_result"
    }
   ],
   "source": [
    "outin_patient.Provider.value_counts()"
   ]
  },
  {
   "cell_type": "code",
   "execution_count": 32,
   "metadata": {},
   "outputs": [
    {
     "data": {
      "text/plain": [
       "True"
      ]
     },
     "execution_count": 32,
     "metadata": {},
     "output_type": "execute_result"
    }
   ],
   "source": [
    "outin_patient['Provider'].str.startswith('PRV').value_counts().values[0] == outin_patient.shape[0]"
   ]
  },
  {
   "cell_type": "markdown",
   "metadata": {},
   "source": [
    "<div class=\"alert alert-block alert-success\">All the <strong>Provider</strong> values are valid and there is no missing values. In Addition, all <strong>Provider</strong> values start with <strong>PRV</strong> </div>\n",
    "    \n",
    "\n",
    "***"
   ]
  },
  {
   "cell_type": "markdown",
   "metadata": {},
   "source": [
    "### `InscClaimAmtReimbursed` : Insurance Claim Amount Reimbursed"
   ]
  },
  {
   "cell_type": "code",
   "execution_count": 33,
   "metadata": {},
   "outputs": [
    {
     "data": {
      "text/plain": [
       "dtype('int64')"
      ]
     },
     "execution_count": 33,
     "metadata": {},
     "output_type": "execute_result"
    }
   ],
   "source": [
    "outin_patient['InscClaimAmtReimbursed'].dtype"
   ]
  },
  {
   "cell_type": "code",
   "execution_count": 34,
   "metadata": {},
   "outputs": [
    {
     "name": "stdout",
     "output_type": "stream",
     "text": [
      "The minimum value of InscClaimAmtReimbursed ->  0 \n",
      " The maximum value of InscClaimAmtReimbursed ->  125000\n"
     ]
    }
   ],
   "source": [
    "#check if there is an abnormal values.\n",
    "print(\"The minimum value of InscClaimAmtReimbursed -> \", outin_patient['InscClaimAmtReimbursed'].min(),\n",
    "      \"\\n The maximum value of InscClaimAmtReimbursed -> \", outin_patient['InscClaimAmtReimbursed'].max())"
   ]
  },
  {
   "cell_type": "markdown",
   "metadata": {},
   "source": [
    "<div class=\"alert alert-block alert-success\">All the <strong>InscClaimAmtReimbursed</strong> values are valid and there is no missing values.\n",
    "</div>\n",
    "\n",
    "***"
   ]
  },
  {
   "cell_type": "markdown",
   "metadata": {},
   "source": [
    "### `AttendingPhysician, OperatingPhysician, OtherPhysician` "
   ]
  },
  {
   "cell_type": "code",
   "execution_count": 35,
   "metadata": {},
   "outputs": [
    {
     "data": {
      "text/plain": [
       "AttendingPhysician    object\n",
       "OperatingPhysician    object\n",
       "OtherPhysician        object\n",
       "dtype: object"
      ]
     },
     "execution_count": 35,
     "metadata": {},
     "output_type": "execute_result"
    }
   ],
   "source": [
    "#create new dataframe for Physician\n",
    "PhysicianList_ = ['AttendingPhysician', 'OperatingPhysician', 'OtherPhysician' ]\n",
    "PhysicianList = outin_patient[PhysicianList_]\n",
    "\n",
    "#get Physicians datatype\n",
    "PhysicianList.dtypes"
   ]
  },
  {
   "cell_type": "code",
   "execution_count": 36,
   "metadata": {},
   "outputs": [
    {
     "data": {
      "text/html": [
       "<div>\n",
       "<style scoped>\n",
       "    .dataframe tbody tr th:only-of-type {\n",
       "        vertical-align: middle;\n",
       "    }\n",
       "\n",
       "    .dataframe tbody tr th {\n",
       "        vertical-align: top;\n",
       "    }\n",
       "\n",
       "    .dataframe thead th {\n",
       "        text-align: right;\n",
       "    }\n",
       "</style>\n",
       "<table border=\"1\" class=\"dataframe\">\n",
       "  <thead>\n",
       "    <tr style=\"text-align: right;\">\n",
       "      <th></th>\n",
       "      <th>Total</th>\n",
       "      <th>Percent</th>\n",
       "    </tr>\n",
       "  </thead>\n",
       "  <tbody>\n",
       "    <tr>\n",
       "      <th>OperatingPhysician</th>\n",
       "      <td>443764</td>\n",
       "      <td>0.794975</td>\n",
       "    </tr>\n",
       "    <tr>\n",
       "      <th>OtherPhysician</th>\n",
       "      <td>358475</td>\n",
       "      <td>0.642185</td>\n",
       "    </tr>\n",
       "    <tr>\n",
       "      <th>AttendingPhysician</th>\n",
       "      <td>1508</td>\n",
       "      <td>0.002701</td>\n",
       "    </tr>\n",
       "  </tbody>\n",
       "</table>\n",
       "</div>"
      ],
      "text/plain": [
       "                     Total   Percent\n",
       "OperatingPhysician  443764  0.794975\n",
       "OtherPhysician      358475  0.642185\n",
       "AttendingPhysician    1508  0.002701"
      ]
     },
     "execution_count": 36,
     "metadata": {},
     "output_type": "execute_result"
    }
   ],
   "source": [
    "# check missing values for Physicians\n",
    "check_missing(PhysicianList)"
   ]
  },
  {
   "cell_type": "code",
   "execution_count": 37,
   "metadata": {},
   "outputs": [
    {
     "name": "stdout",
     "output_type": "stream",
     "text": [
      "AttendingPhysician ['PHY326117' 'PHY362868' 'PHY328821' ... 'PHY411654' 'PHY316716'\n",
      " 'PHY393635'] \n",
      "\n",
      "The number of AttendingPhysician start with PHY True    556703\n",
      "Name: AttendingPhysician, dtype: int64 \n",
      "\n",
      "----------------\n",
      "OperatingPhysician [nan 'PHY366436' 'PHY359916' ... 'PHY420356' 'PHY332778' 'PHY430902'] \n",
      "\n",
      "The number of OperatingPhysician start with PHY True    114447\n",
      "Name: OperatingPhysician, dtype: int64 \n",
      "\n",
      "----------------\n",
      "OtherPhysician [nan 'PHY346833' 'PHY311407' ... 'PHY383595' 'PHY431760' 'PHY398228'] \n",
      "\n",
      "The number of OtherPhysician start with PHY True    199736\n",
      "Name: OtherPhysician, dtype: int64 \n",
      "\n",
      "----------------\n"
     ]
    }
   ],
   "source": [
    "# Iterate over the sequence of column \n",
    "for column in PhysicianList:\n",
    "   # Select column by column name using [] operator\n",
    "   columnSeriesObj = PhysicianList[column]\n",
    "    \n",
    "    #print unique values per column\n",
    "   print(column, PhysicianList[column].unique(),'\\n')\n",
    "\n",
    "   #print the occurrences of PhysicianType that start with PHY\n",
    "   print('The number of',column,'start with PHY',PhysicianList[column].str.startswith('PHY').value_counts(),'\\n')\n",
    "   print('----------------')"
   ]
  },
  {
   "cell_type": "markdown",
   "metadata": {},
   "source": [
    "<div class=\"alert alert-block alert-warning\"> <strong>AttendingPhysician</strong> have 1508 missing values (0.002701) & the values format are valid. In Addition, all <strong>AttendingPhysician</strong>  starts with <strong> PHY </strong>\n",
    "</div>\n",
    "\n",
    "<div class=\"alert alert-block alert-warning\"> <strong>OperatingPhysician</strong> have 443764 missing values (0.794975) & the values format are valid. In Addition, all <strong>OperatingPhysician</strong>  starts with <strong> PHY </strong>\n",
    "</div>\n",
    "\n",
    "<div class=\"alert alert-block alert-warning\"> <strong>OtherPhysician</strong> have 358475 missing values (0.642185) & the values format are valid. In Addition, all <strong>OtherPhysician</strong>  starts with <strong> PHY </strong>\n",
    "</div>\n",
    "\n",
    "***"
   ]
  },
  {
   "cell_type": "markdown",
   "metadata": {},
   "source": [
    "### `DeductibleAmtPaid` : Deductible Amount Paid"
   ]
  },
  {
   "cell_type": "code",
   "execution_count": 38,
   "metadata": {},
   "outputs": [
    {
     "data": {
      "text/plain": [
       "dtype('float64')"
      ]
     },
     "execution_count": 38,
     "metadata": {},
     "output_type": "execute_result"
    }
   ],
   "source": [
    "outin_patient['DeductibleAmtPaid'].dtype"
   ]
  },
  {
   "cell_type": "code",
   "execution_count": 39,
   "metadata": {},
   "outputs": [
    {
     "name": "stdout",
     "output_type": "stream",
     "text": [
      "The minimum value of Deductible Amount Paid ->  0.0 \n",
      " The maximum value Deductible Amount Paid->  1068.0\n"
     ]
    }
   ],
   "source": [
    "#check if there is an abnormal values.\n",
    "print(\"The minimum value of Deductible Amount Paid -> \", outin_patient['DeductibleAmtPaid'].min(),\n",
    "      \"\\n The maximum value Deductible Amount Paid-> \", outin_patient['DeductibleAmtPaid'].max())"
   ]
  },
  {
   "cell_type": "markdown",
   "metadata": {},
   "source": [
    "<div class=\"alert alert-block alert-success\">All the <strong>ClaimStartDt</strong> values are valid and there is 899 missing values (0.001611).\n",
    "</div>\n",
    "\n",
    "***"
   ]
  },
  {
   "cell_type": "markdown",
   "metadata": {},
   "source": [
    "\n",
    "### `ClmAdmitDiagnosisCode` : Claim Admission Diagnosis Code"
   ]
  },
  {
   "cell_type": "code",
   "execution_count": 40,
   "metadata": {},
   "outputs": [
    {
     "data": {
      "text/plain": [
       "dtype('O')"
      ]
     },
     "execution_count": 40,
     "metadata": {},
     "output_type": "execute_result"
    }
   ],
   "source": [
    "outin_patient['ClmAdmitDiagnosisCode'].dtype"
   ]
  },
  {
   "cell_type": "code",
   "execution_count": 41,
   "metadata": {},
   "outputs": [
    {
     "data": {
      "text/plain": [
       "array(['56409', '79380', nan, ..., '5581', '20282', '41061'], dtype=object)"
      ]
     },
     "execution_count": 41,
     "metadata": {},
     "output_type": "execute_result"
    }
   ],
   "source": [
    "outin_patient['ClmAdmitDiagnosisCode'].unique()"
   ]
  },
  {
   "cell_type": "markdown",
   "metadata": {},
   "source": [
    "<div class=\"alert alert-block alert-warning\"> <strong>ClmAdmitDiagnosisCode</strong> have 412312 missing values (0.738631) and it's code contains text,numbers ..\n",
    "</div>\n",
    "\n",
    "***"
   ]
  },
  {
   "cell_type": "markdown",
   "metadata": {},
   "source": [
    "### `ClmDiagnosisCode`:  Claim Diagnosis Code"
   ]
  },
  {
   "cell_type": "code",
   "execution_count": 42,
   "metadata": {},
   "outputs": [],
   "source": [
    "# create list have all ClmDiagnosisCode version\n",
    "ClmDiagnosisCodeList_ = ['ClmDiagnosisCode_1', 'ClmDiagnosisCode_2', 'ClmDiagnosisCode_3',\n",
    "                         'ClmDiagnosisCode_4', 'ClmDiagnosisCode_5', 'ClmDiagnosisCode_6',      \n",
    "                         'ClmDiagnosisCode_7', 'ClmDiagnosisCode_8', 'ClmDiagnosisCode_9',     \n",
    "                         'ClmDiagnosisCode_10']"
   ]
  },
  {
   "cell_type": "code",
   "execution_count": 43,
   "metadata": {},
   "outputs": [
    {
     "data": {
      "text/plain": [
       "ClmDiagnosisCode_1     object\n",
       "ClmDiagnosisCode_2     object\n",
       "ClmDiagnosisCode_3     object\n",
       "ClmDiagnosisCode_4     object\n",
       "ClmDiagnosisCode_5     object\n",
       "ClmDiagnosisCode_6     object\n",
       "ClmDiagnosisCode_7     object\n",
       "ClmDiagnosisCode_8     object\n",
       "ClmDiagnosisCode_9     object\n",
       "ClmDiagnosisCode_10    object\n",
       "dtype: object"
      ]
     },
     "execution_count": 43,
     "metadata": {},
     "output_type": "execute_result"
    }
   ],
   "source": [
    "# create new dataframe for ClmDiagnosisCode\n",
    "ClmDiagnosisCodeList = outin_patient[ClmDiagnosisCodeList_]\n",
    "\n",
    "#get datatypes of ClmDiagnosisCode version\n",
    "ClmDiagnosisCodeList.dtypes"
   ]
  },
  {
   "cell_type": "code",
   "execution_count": 44,
   "metadata": {},
   "outputs": [
    {
     "data": {
      "text/html": [
       "<div>\n",
       "<style scoped>\n",
       "    .dataframe tbody tr th:only-of-type {\n",
       "        vertical-align: middle;\n",
       "    }\n",
       "\n",
       "    .dataframe tbody tr th {\n",
       "        vertical-align: top;\n",
       "    }\n",
       "\n",
       "    .dataframe thead th {\n",
       "        text-align: right;\n",
       "    }\n",
       "</style>\n",
       "<table border=\"1\" class=\"dataframe\">\n",
       "  <thead>\n",
       "    <tr style=\"text-align: right;\">\n",
       "      <th></th>\n",
       "      <th>Total</th>\n",
       "      <th>Percent</th>\n",
       "    </tr>\n",
       "  </thead>\n",
       "  <tbody>\n",
       "    <tr>\n",
       "      <th>ClmDiagnosisCode_10</th>\n",
       "      <td>553201</td>\n",
       "      <td>0.991025</td>\n",
       "    </tr>\n",
       "    <tr>\n",
       "      <th>ClmDiagnosisCode_9</th>\n",
       "      <td>516396</td>\n",
       "      <td>0.925091</td>\n",
       "    </tr>\n",
       "    <tr>\n",
       "      <th>ClmDiagnosisCode_8</th>\n",
       "      <td>504767</td>\n",
       "      <td>0.904258</td>\n",
       "    </tr>\n",
       "    <tr>\n",
       "      <th>ClmDiagnosisCode_7</th>\n",
       "      <td>492034</td>\n",
       "      <td>0.881448</td>\n",
       "    </tr>\n",
       "    <tr>\n",
       "      <th>ClmDiagnosisCode_6</th>\n",
       "      <td>473819</td>\n",
       "      <td>0.848817</td>\n",
       "    </tr>\n",
       "    <tr>\n",
       "      <th>ClmDiagnosisCode_5</th>\n",
       "      <td>446287</td>\n",
       "      <td>0.799495</td>\n",
       "    </tr>\n",
       "    <tr>\n",
       "      <th>ClmDiagnosisCode_4</th>\n",
       "      <td>393675</td>\n",
       "      <td>0.705244</td>\n",
       "    </tr>\n",
       "    <tr>\n",
       "      <th>ClmDiagnosisCode_3</th>\n",
       "      <td>315156</td>\n",
       "      <td>0.564582</td>\n",
       "    </tr>\n",
       "    <tr>\n",
       "      <th>ClmDiagnosisCode_2</th>\n",
       "      <td>195606</td>\n",
       "      <td>0.350416</td>\n",
       "    </tr>\n",
       "    <tr>\n",
       "      <th>ClmDiagnosisCode_1</th>\n",
       "      <td>10453</td>\n",
       "      <td>0.018726</td>\n",
       "    </tr>\n",
       "  </tbody>\n",
       "</table>\n",
       "</div>"
      ],
      "text/plain": [
       "                      Total   Percent\n",
       "ClmDiagnosisCode_10  553201  0.991025\n",
       "ClmDiagnosisCode_9   516396  0.925091\n",
       "ClmDiagnosisCode_8   504767  0.904258\n",
       "ClmDiagnosisCode_7   492034  0.881448\n",
       "ClmDiagnosisCode_6   473819  0.848817\n",
       "ClmDiagnosisCode_5   446287  0.799495\n",
       "ClmDiagnosisCode_4   393675  0.705244\n",
       "ClmDiagnosisCode_3   315156  0.564582\n",
       "ClmDiagnosisCode_2   195606  0.350416\n",
       "ClmDiagnosisCode_1    10453  0.018726"
      ]
     },
     "execution_count": 44,
     "metadata": {},
     "output_type": "execute_result"
    }
   ],
   "source": [
    "#check missing in ClmDiagnosisCode versions\n",
    "check_missing(ClmDiagnosisCodeList)"
   ]
  },
  {
   "cell_type": "code",
   "execution_count": 45,
   "metadata": {},
   "outputs": [
    {
     "name": "stdout",
     "output_type": "stream",
     "text": [
      "ClmDiagnosisCode_1 ['78943' '6115' '2723' ... '6172' '65661' '85145'] \n",
      "\n",
      "ClmDiagnosisCode_2 ['V5866' nan '30000' ... '73004' '55012' 'V6111'] \n",
      "\n",
      "ClmDiagnosisCode_3 ['V1272' nan '72887' ... 'E8529' 'E9504' '27786'] \n",
      "\n",
      "ClmDiagnosisCode_4 [nan '4280' 'V854' ... '1175' '94512' '7313'] \n",
      "\n",
      "ClmDiagnosisCode_5 [nan '7197' '72751' ... '2510' '28861' '99678'] \n",
      "\n",
      "ClmDiagnosisCode_6 [nan 'V4577' '4019' ... '73609' '34570' '5173'] \n",
      "\n",
      "ClmDiagnosisCode_7 [nan '9597' 'V5869' ... '3562' '40501' '2212'] \n",
      "\n",
      "ClmDiagnosisCode_8 [nan '8449' '78659' ... '6079' '25093' '95203'] \n",
      "\n",
      "ClmDiagnosisCode_9 [nan '71596' '34830' ... '29534' 'V0261' '36966'] \n",
      "\n",
      "ClmDiagnosisCode_10 [nan 'V059' 'V4581' ... '56981' '68110' 'V5863'] \n",
      "\n"
     ]
    }
   ],
   "source": [
    "# Iterate over the sequence of column \n",
    "for column in ClmDiagnosisCodeList:\n",
    "   # Select column by column name using [] operator\n",
    "   columnSeriesObj = ClmDiagnosisCodeList[column]\n",
    "    \n",
    "    #print unique values per column\n",
    "   print(column, ClmDiagnosisCodeList[column].unique(),'\\n')\n",
    "\n"
   ]
  },
  {
   "cell_type": "markdown",
   "metadata": {},
   "source": [
    "<div class=\"alert alert-block alert-warning\"> \n",
    "    <ul>\n",
    "        <li>All of <strong>ClmDiagnosisCode</strong> have object datatype and it's code contains text,numbers...</li>\n",
    "        <li><strong>ClmDiagnosisCode</strong> version 1&2 have missing values less than 50%</li>\n",
    "        <li><strong>ClmDiagnosisCode</strong> version from 3 to 10  have missing values more than 50%</li>\n",
    "    </ul>\n",
    "    \n",
    "</div>\n",
    "\n",
    "***"
   ]
  },
  {
   "cell_type": "markdown",
   "metadata": {},
   "source": [
    "### `ClmProcedureCode`:  Claim Procedure Code"
   ]
  },
  {
   "cell_type": "code",
   "execution_count": 46,
   "metadata": {},
   "outputs": [],
   "source": [
    "# create list have all ClmProcedureCode version\n",
    "ClmProcedureCode_ = ['ClmProcedureCode_1', 'ClmProcedureCode_2',\n",
    "                    'ClmProcedureCode_3', 'ClmProcedureCode_4',\n",
    "                    'ClmProcedureCode_5', 'ClmProcedureCode_6']     "
   ]
  },
  {
   "cell_type": "code",
   "execution_count": 47,
   "metadata": {},
   "outputs": [
    {
     "data": {
      "text/plain": [
       "ClmProcedureCode_1    float64\n",
       "ClmProcedureCode_2    float64\n",
       "ClmProcedureCode_3    float64\n",
       "ClmProcedureCode_4    float64\n",
       "ClmProcedureCode_5    float64\n",
       "ClmProcedureCode_6    float64\n",
       "dtype: object"
      ]
     },
     "execution_count": 47,
     "metadata": {},
     "output_type": "execute_result"
    }
   ],
   "source": [
    "# create new dataframe for ClmProcedureCode\n",
    "ClmProcedureCode = outin_patient[ClmProcedureCode_]\n",
    "\n",
    "#get datatypes of ClmProcedureCode version\n",
    "ClmProcedureCode.dtypes"
   ]
  },
  {
   "cell_type": "code",
   "execution_count": 48,
   "metadata": {},
   "outputs": [
    {
     "data": {
      "text/html": [
       "<div>\n",
       "<style scoped>\n",
       "    .dataframe tbody tr th:only-of-type {\n",
       "        vertical-align: middle;\n",
       "    }\n",
       "\n",
       "    .dataframe tbody tr th {\n",
       "        vertical-align: top;\n",
       "    }\n",
       "\n",
       "    .dataframe thead th {\n",
       "        text-align: right;\n",
       "    }\n",
       "</style>\n",
       "<table border=\"1\" class=\"dataframe\">\n",
       "  <thead>\n",
       "    <tr style=\"text-align: right;\">\n",
       "      <th></th>\n",
       "      <th>Total</th>\n",
       "      <th>Percent</th>\n",
       "    </tr>\n",
       "  </thead>\n",
       "  <tbody>\n",
       "    <tr>\n",
       "      <th>ClmProcedureCode_6</th>\n",
       "      <td>558211</td>\n",
       "      <td>1.000000</td>\n",
       "    </tr>\n",
       "    <tr>\n",
       "      <th>ClmProcedureCode_5</th>\n",
       "      <td>558202</td>\n",
       "      <td>0.999984</td>\n",
       "    </tr>\n",
       "    <tr>\n",
       "      <th>ClmProcedureCode_4</th>\n",
       "      <td>558093</td>\n",
       "      <td>0.999789</td>\n",
       "    </tr>\n",
       "    <tr>\n",
       "      <th>ClmProcedureCode_3</th>\n",
       "      <td>557242</td>\n",
       "      <td>0.998264</td>\n",
       "    </tr>\n",
       "    <tr>\n",
       "      <th>ClmProcedureCode_2</th>\n",
       "      <td>552721</td>\n",
       "      <td>0.990165</td>\n",
       "    </tr>\n",
       "    <tr>\n",
       "      <th>ClmProcedureCode_1</th>\n",
       "      <td>534901</td>\n",
       "      <td>0.958242</td>\n",
       "    </tr>\n",
       "  </tbody>\n",
       "</table>\n",
       "</div>"
      ],
      "text/plain": [
       "                     Total   Percent\n",
       "ClmProcedureCode_6  558211  1.000000\n",
       "ClmProcedureCode_5  558202  0.999984\n",
       "ClmProcedureCode_4  558093  0.999789\n",
       "ClmProcedureCode_3  557242  0.998264\n",
       "ClmProcedureCode_2  552721  0.990165\n",
       "ClmProcedureCode_1  534901  0.958242"
      ]
     },
     "execution_count": 48,
     "metadata": {},
     "output_type": "execute_result"
    }
   ],
   "source": [
    "#check missing in ClmProcedureCode versions\n",
    "check_missing(ClmProcedureCode)"
   ]
  },
  {
   "cell_type": "code",
   "execution_count": 49,
   "metadata": {},
   "outputs": [
    {
     "name": "stdout",
     "output_type": "stream",
     "text": [
      "ClmProcedureCode_1 [  nan 9672. 4573. ... 9815. 9351. 9938.] \n",
      "\n",
      "ClmProcedureCode_2 [  nan 3811. 7820. 4439. 4019. 1741.  496. 4571. 9982. 6929. 5849. 4142.\n",
      " 2724. 7840. 2763. 2731. 7862. 5119. 7804. 9971. 5739. 5733.  412. 4139.\n",
      " 7904. 2762.  311. 7876. 5185. 5845. 4210. 3570. 5198. 7802. 9975. 9092.\n",
      " 7830. 4441.  570. 5781. 6141. 4414. 9972. 1122. 4264. 9986. 1629. 2939.\n",
      " 2749.   42.  260. 5718. 2761. 9973. 4422. 7850. 3320. 5641. 4011. 7907.\n",
      " 6829. 7906. 5305. 9961. 2819.  539. 1749.  500.  185. 7851. 4254. 3485.\n",
      " 2752. 7837. 8026. 3331. 9974. 4263. 1733. 4465. 7994. 7845. 2764. 6071.\n",
      "  920. 7823. 3963. 8670. 8072. 3572. 3542. 2753. 9052. 3812. 6823.  193.\n",
      " 7859. 5521. 5789. 8054. 4821.  780. 3840. 3962. 7842. 7854. 4240. 3371.\n",
      " 4241. 9072. 1623. 4109. 9054. 7856. 1519. 5712. 5369. 3842. 8921. 4561.\n",
      " 7921. 2722. 3844. 6212. 4292. 5184. 3481. 4104. 8881. 6191. 3899. 5693.\n",
      " 7812. 4464. 5695. 8404. 7231. 7843. 2630. 8052. 2251. 3009. 5679. 1453.\n",
      " 4242. 4552. 7993. 5569. 5363. 5183. 7852. 4101.  400. 8082. 5121. 5799.\n",
      " 1509. 4258. 7054. 7910. 8708. 7824. 9222. 4871. 7881. 7810. 7062. 7892.\n",
      " 4592. 3561. 4269. 5303. 4251. 6019.  842. 5722. 4550. 4959. 4660. 3619.\n",
      " 7813. 7863. 5771. 7071. 7806. 2771.   66. 7905. 6822. 2729. 4281. 9999.\n",
      " 9962. 3849. 1160. 9331. 1809. 2721. 9181. 7032. 3492. 5589. 9998. 7999.\n",
      " 4401. 5531. 8448. 6821.  481. 4233. 7962. 7092.   90. 7885. 9916. 9992.\n",
      " 7109. 5921. 1175. 1121. 5902. 1173. 4400. 5111. 8020. 7822. 9012. 3484.\n",
      " 1179. 3239. 2899. 3810. 7101. 2631. 7271. 9065. 3229. 9627. 5110. 7891.\n",
      " 4541. 5793.  605. 4590. 4102. 7960. 5582. 7079. 7919. 3129. 2181. 4829.\n",
      " 7991. 2189. 7871. 9112. 3501. 4262. 7963. 2769. 2182.   59. 7955. 8605.\n",
      " 5304. 7801.  398. 3209. 2252. 7533. 9995. 7873.  430. 3241. 5194. 8088.\n",
      " 9064. 5533. 5831. 7808. 6219. 3843. 5821.  529. 4610. 5300. 8604. 7913.\n",
      " 7868. 5163. 3341. 3491. 5691. 5829.  436. 9642. 3699. 9984. 1390. 7847.\n",
      " 5839.] \n",
      "\n",
      "ClmProcedureCode_3 [  nan  412. 4401. 4299. 2724. 4019. 7963. 4439. 9972. 5185. 3009. 5533.\n",
      "  570. 3572. 5184. 9971. 5849. 7823. 2762. 9982. 5845.  311. 2749. 5789.\n",
      " 4263. 4011. 6823. 4414. 4431. 5183. 2752. 4821.  496. 9974. 2722. 4139.\n",
      " 7907. 2761. 7812. 1629. 5119. 1623. 7885. 4254. 7806. 7994. 7802. 8670.\n",
      " 7824.  185. 3963. 2912. 5679. 7032. 7837. 3484. 4422. 4239. 7054. 4233.\n",
      " 3962.  920. 2763. 8881. 9172. 7840. 7845. 7921. 4660. 4464. 9999. 5695.\n",
      " 3485. 7854. 3849.  260. 2819. 2592. 5363. 2764. 5303. 2769. 4264. 9054.\n",
      " 7843. 4240. 3320. 7810. 7071. 4104. 7991. 4571. 5283. 7962. 6822. 2811.\n",
      " 1509. 8054. 3481. 7850. 9961. 5589. 8082. 3899. 5712. 3811. 9973. 5781.\n",
      " 3129. 7942. 4101. 7892. 2753. 9975.  400. 5733. 2411. 7999. 4292. 7906.\n",
      " 5641.  481. 5163. 1749. 7993. 5304. 5193. 8088. 9092.  539. 4552. 9072.\n",
      " 4241. 7905. 4109. 7851. 1622. 1122. 4258. 3843. 7868.   42. 8020. 5718.\n",
      " 7804. 2630. 4269. 7231. 7852. 7863. 4532. 4242. 7078. 3840. 3812.] \n",
      "\n",
      "ClmProcedureCode_4 [  nan 7840.  311.   42. 4104. 7999. 1122. 5849. 2724. 4439.  496. 4011.\n",
      " 3572. 4019. 6822.  185. 4269. 7804. 4139. 9974. 2761. 5771. 5185. 2762.\n",
      " 3963. 7824. 7823. 9986. 2749. 2763. 5121. 4263. 5845. 3320. 2752. 7851.\n",
      " 4660. 7802. 4422. 3849. 1511. 4414. 4240. 5789. 3962. 5119.  412. 3844.\n",
      " 3343.] \n",
      "\n",
      "ClmProcedureCode_5 [  nan 4139. 5185. 4422. 2724. 9971. 9982.] \n",
      "\n",
      "ClmProcedureCode_6 [nan] \n",
      "\n"
     ]
    }
   ],
   "source": [
    "# Iterate over the sequence of column \n",
    "for column in ClmProcedureCode:\n",
    "   # Select column by column name using [] operator\n",
    "   columnSeriesObj = ClmProcedureCode[column]\n",
    "    \n",
    "    #print unique values per column\n",
    "   print(column, ClmProcedureCode[column].unique(),'\\n')"
   ]
  },
  {
   "cell_type": "markdown",
   "metadata": {},
   "source": [
    "<div class=\"alert alert-block alert-warning\"> \n",
    "    <ul>\n",
    "        <li>All of <strong>ClmProcedureCode</strong> have float64 datatype </li>\n",
    "        <li> All values are missing in <strong>ClmProcedureCode_6</strong> </li>\n",
    "        <li><strong>ClmProcedureCode</strong> version from  <strong> 1 to 5  </strong>have about 90% missing values </li>\n",
    "    </ul>\n",
    "    \n",
    "</div>\n",
    "\n",
    "***"
   ]
  },
  {
   "cell_type": "code",
   "execution_count": null,
   "metadata": {},
   "outputs": [],
   "source": []
  }
 ],
 "metadata": {
  "kernelspec": {
   "display_name": "Python 3",
   "language": "python",
   "name": "python3"
  },
  "language_info": {
   "codemirror_mode": {
    "name": "ipython",
    "version": 3
   },
   "file_extension": ".py",
   "mimetype": "text/x-python",
   "name": "python",
   "nbconvert_exporter": "python",
   "pygments_lexer": "ipython3",
   "version": "3.8.5"
  }
 },
 "nbformat": 4,
 "nbformat_minor": 4
}
